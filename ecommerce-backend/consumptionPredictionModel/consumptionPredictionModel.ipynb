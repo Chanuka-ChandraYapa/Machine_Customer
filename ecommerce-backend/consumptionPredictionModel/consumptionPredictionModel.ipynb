{
  "cells": [
    {
      "cell_type": "code",
      "execution_count": 6,
      "metadata": {
        "id": "zsBFcdc1blEJ"
      },
      "outputs": [],
      "source": [
        "# train_model.py\n",
        "\n",
        "import pandas as pd\n",
        "from sklearn.model_selection import train_test_split\n",
        "from sklearn.ensemble import RandomForestRegressor\n",
        "from sklearn.metrics import mean_squared_error\n",
        "import joblib\n",
        "\n",
        "# Load your dataset\n",
        "data = pd.read_csv(\"/content/product_consumption_dataset.csv\")  # Replace with your dataset path\n",
        "\n",
        "# One-hot encode product types\n",
        "data = pd.get_dummies(data, columns=[\"product_type\"], drop_first=True)\n",
        "\n",
        "# Define features (X) and target (y)\n",
        "# Remove 'threshold' and 'scaled_threshold' from X\n",
        "X = data.drop(columns=['threshold', 'scaled_threshold'])\n",
        "y = data['threshold']\n",
        "\n",
        "# Split the dataset into training and testing sets\n",
        "X_train, X_test, y_train, y_test = train_test_split(X, y, test_size=0.2, random_state=42)\n",
        "\n",
        "# Train a RandomForestRegressor model\n",
        "model = RandomForestRegressor(n_estimators=100, random_state=42)\n",
        "model.fit(X_train, y_train)\n",
        "\n",
        "# Evaluate the model\n",
        "y_pred = model.predict(X_test)\n",
        "rmse = mean_squared_error(y_test, y_pred)\n",
        "print(f\"Model RMSE: {rmse}\")\n",
        "\n",
        "# Save the model\n",
        "joblib.dump(model, \"food_consumption_model.pkl\")\n",
        "print(\"Model saved as food_consumption_model.pkl\")"
      ]
    }
  ],
  "metadata": {
    "colab": {
      "provenance": []
    },
    "kernelspec": {
      "display_name": "Python 3",
      "name": "python3"
    },
    "language_info": {
      "name": "python",
      "version": "3.12.6"
    }
  },
  "nbformat": 4,
  "nbformat_minor": 0
}
